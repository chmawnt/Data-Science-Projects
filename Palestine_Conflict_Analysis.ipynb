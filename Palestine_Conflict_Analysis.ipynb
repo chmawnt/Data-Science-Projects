{
  "nbformat": 4,
  "nbformat_minor": 0,
  "metadata": {
    "colab": {
      "provenance": [],
      "authorship_tag": "ABX9TyNn2WbTOIpNKWOdcvae7nlZ",
      "include_colab_link": true
    },
    "kernelspec": {
      "name": "python3",
      "display_name": "Python 3"
    },
    "language_info": {
      "name": "python"
    }
  },
  "cells": [
    {
      "cell_type": "markdown",
      "metadata": {
        "id": "view-in-github",
        "colab_type": "text"
      },
      "source": [
        "<a href=\"https://colab.research.google.com/github/chmawnt/Data-Science-Projects/blob/main/Palestine_Conflict_Analysis.ipynb\" target=\"_parent\"><img src=\"https://colab.research.google.com/assets/colab-badge.svg\" alt=\"Open In Colab\"/></a>"
      ]
    },
    {
      "cell_type": "code",
      "execution_count": 2,
      "metadata": {
        "id": "qv7RqKCj-bLF"
      },
      "outputs": [],
      "source": [
        "import pandas as pd\n",
        "import numpy as np\n",
        "import matplotlib.pyplot as plt\n",
        "import seaborn as sns\n",
        "%matplotlib inline"
      ]
    },
    {
      "cell_type": "code",
      "source": [
        "df = pd.read_csv('fatalities.csv')"
      ],
      "metadata": {
        "id": "pzvSUGIuCuQ7"
      },
      "execution_count": 3,
      "outputs": []
    },
    {
      "cell_type": "code",
      "source": [
        "citizenship_count = df['citizenship'].value_counts()\n",
        "event_location_region = df['event_location_region'].value_counts()\n",
        "hostilities_counts = df[df['took_part_in_the_hostilities'] == 'Yes']['citizenship'].value_counts()\n",
        "no_hostilities_counts = df[df['took_part_in_the_hostilities']=='No']['citizenship'].value_counts()\n"
      ],
      "metadata": {
        "id": "cNWvkL6WDOlp"
      },
      "execution_count": 15,
      "outputs": []
    },
    {
      "cell_type": "markdown",
      "source": [],
      "metadata": {
        "id": "dMQ9rQYVEoZS"
      }
    }
  ]
}